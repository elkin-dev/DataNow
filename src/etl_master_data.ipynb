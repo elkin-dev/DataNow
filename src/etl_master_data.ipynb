{
 "cells": [
  {
   "cell_type": "markdown",
   "metadata": {},
   "source": [
    "## ETL de Carga de información de Datos Maestros VF.xlsx"
   ]
  },
  {
   "cell_type": "markdown",
   "metadata": {},
   "source": [
    "## Installation of base libraries"
   ]
  },
  {
   "cell_type": "code",
   "execution_count": 2,
   "metadata": {
    "ExecuteTime": {
     "end_time": "2024-03-10T01:42:12.367662Z",
     "start_time": "2024-03-10T01:42:11.070752Z"
    }
   },
   "outputs": [],
   "source": [
    "import pandas as pd\n",
    "from config.db_config import engine\n",
    "import re"
   ]
  },
  {
   "cell_type": "markdown",
   "metadata": {},
   "source": [
    "## Extraction"
   ]
  },
  {
   "cell_type": "code",
   "execution_count": 3,
   "metadata": {
    "ExecuteTime": {
     "end_time": "2024-03-10T01:42:15.883044Z",
     "start_time": "2024-03-10T01:42:15.039495Z"
    }
   },
   "outputs": [],
   "source": [
    "# Se extrae el primer source\n",
    "df_datos_maestros = pd.read_excel(\"../data/Datos Maestros VF.xlsx\")"
   ]
  },
  {
   "cell_type": "code",
   "execution_count": 4,
   "metadata": {
    "ExecuteTime": {
     "end_time": "2024-03-10T01:42:17.124274Z",
     "start_time": "2024-03-10T01:42:17.112595Z"
    }
   },
   "outputs": [],
   "source": [
    "# Se extrae el segundo source\n",
    "df_ddec = pd.read_csv(\n",
    "    \"../data/dDEC1204.TXT\", delimiter=\",\", header=None, encoding=\"latin1\"\n",
    ")"
   ]
  },
  {
   "cell_type": "markdown",
   "metadata": {},
   "source": [
    "## Transformation"
   ]
  },
  {
   "cell_type": "code",
   "execution_count": 5,
   "metadata": {
    "ExecuteTime": {
     "end_time": "2024-03-10T01:42:20.206430Z",
     "start_time": "2024-03-10T01:42:20.183736Z"
    }
   },
   "outputs": [
    {
     "data": {
      "text/plain": "   Nombre_Agente  Agente_Ofei  Central Tipo_Central\n32        EMGESA  EMGESA S.A.  BETANIA            H\n33        EMGESA  EMGESA S.A.  BETANIA            H\n34        EMGESA  EMGESA S.A.  BETANIA            H\n49        EMGESA  EMGESA S.A.  CTGEMG1            T\n50        EMGESA  EMGESA S.A.  CTGEMG2            T",
      "text/html": "<div>\n<style scoped>\n    .dataframe tbody tr th:only-of-type {\n        vertical-align: middle;\n    }\n\n    .dataframe tbody tr th {\n        vertical-align: top;\n    }\n\n    .dataframe thead th {\n        text-align: right;\n    }\n</style>\n<table border=\"1\" class=\"dataframe\">\n  <thead>\n    <tr style=\"text-align: right;\">\n      <th></th>\n      <th>Nombre_Agente</th>\n      <th>Agente_Ofei</th>\n      <th>Central</th>\n      <th>Tipo_Central</th>\n    </tr>\n  </thead>\n  <tbody>\n    <tr>\n      <th>32</th>\n      <td>EMGESA</td>\n      <td>EMGESA S.A.</td>\n      <td>BETANIA</td>\n      <td>H</td>\n    </tr>\n    <tr>\n      <th>33</th>\n      <td>EMGESA</td>\n      <td>EMGESA S.A.</td>\n      <td>BETANIA</td>\n      <td>H</td>\n    </tr>\n    <tr>\n      <th>34</th>\n      <td>EMGESA</td>\n      <td>EMGESA S.A.</td>\n      <td>BETANIA</td>\n      <td>H</td>\n    </tr>\n    <tr>\n      <th>49</th>\n      <td>EMGESA</td>\n      <td>EMGESA S.A.</td>\n      <td>CTGEMG1</td>\n      <td>T</td>\n    </tr>\n    <tr>\n      <th>50</th>\n      <td>EMGESA</td>\n      <td>EMGESA S.A.</td>\n      <td>CTGEMG2</td>\n      <td>T</td>\n    </tr>\n  </tbody>\n</table>\n</div>"
     },
     "execution_count": 5,
     "metadata": {},
     "output_type": "execute_result"
    }
   ],
   "source": [
    "# Renombrado de columnas\n",
    "columnas = [\n",
    "    \"Nombre visible Agente\",\n",
    "    \"AGENTE (OFEI)\",\n",
    "    \"CENTRAL (dDEC, dSEGDES, dPRU…)\",\n",
    "    \"Tipo de central (Hidro, Termo, Filo, Menor)\",\n",
    "]\n",
    "df_datos_maestros = pd.DataFrame(df_datos_maestros, columns=columnas)\n",
    "df_datos_maestros = df_datos_maestros.rename(\n",
    "    columns={\n",
    "        \"Nombre visible Agente\": \"Nombre_Agente\",\n",
    "        \"AGENTE (OFEI)\": \"Agente_Ofei\",\n",
    "        \"CENTRAL (dDEC, dSEGDES, dPRU…)\": \"Central\",\n",
    "        \"Tipo de central (Hidro, Termo, Filo, Menor)\": \"Tipo_Central\",\n",
    "    }\n",
    ")\n",
    "# Filtros solicitados\n",
    "condicion = (\n",
    "    (df_datos_maestros[\"Agente_Ofei\"] == \"EMGESA\")\n",
    "    | (df_datos_maestros[\"Agente_Ofei\"] == \"EMGESA S.A.\")\n",
    ") & (\n",
    "    (df_datos_maestros[\"Tipo_Central\"] == \"H\")\n",
    "    | (df_datos_maestros[\"Tipo_Central\"] == \"T\")\n",
    ")\n",
    "df_filtrado = df_datos_maestros[condicion]\n",
    "df_datos_maestros = df_filtrado"
   ]
  },
  {
   "cell_type": "code",
   "execution_count": 6,
   "metadata": {
    "ExecuteTime": {
     "end_time": "2024-03-10T01:43:29.581802Z",
     "start_time": "2024-03-10T01:43:29.561859Z"
    }
   },
   "outputs": [
    {
     "data": {
      "text/plain": "       Central  Hora_1  Hora_2  Hora_3  Hora_4  Hora_5  Hora_6  Hora_7  \\\n0  AG_ARGOSCTG       0       0       0       0       0       0       0   \n1  AG_ARGOSYUM       0       0       0       0       0       0       0   \n2   AG_ELCAIRO       0       0       0       1       3       3       3   \n3   AG_REFICAR       9       9       9       9       9       9       9   \n4    AG_UNIBOL       1       1       1       1       1       1       1   \n\n   Hora_8  Hora_9  ...  Hora_15  Hora_16  Hora_17  Hora_18  Hora_19  Hora_20  \\\n0       0       0  ...        0        0        0        0        0        0   \n1       0       0  ...        0        0        0        0        0        0   \n2       3       3  ...        3        0        0        0        0        1   \n3       9       9  ...        9        9        9        9        9        9   \n4       1       1  ...        1        1        1        1        1        1   \n\n   Hora_21  Hora_22  Hora_23  Hora_24  \n0        0        0        0        0  \n1        0        0        0        0  \n2        3        3        3        3  \n3        9        9        9        9  \n4        1        1        1        1  \n\n[5 rows x 25 columns]",
      "text/html": "<div>\n<style scoped>\n    .dataframe tbody tr th:only-of-type {\n        vertical-align: middle;\n    }\n\n    .dataframe tbody tr th {\n        vertical-align: top;\n    }\n\n    .dataframe thead th {\n        text-align: right;\n    }\n</style>\n<table border=\"1\" class=\"dataframe\">\n  <thead>\n    <tr style=\"text-align: right;\">\n      <th></th>\n      <th>Central</th>\n      <th>Hora_1</th>\n      <th>Hora_2</th>\n      <th>Hora_3</th>\n      <th>Hora_4</th>\n      <th>Hora_5</th>\n      <th>Hora_6</th>\n      <th>Hora_7</th>\n      <th>Hora_8</th>\n      <th>Hora_9</th>\n      <th>...</th>\n      <th>Hora_15</th>\n      <th>Hora_16</th>\n      <th>Hora_17</th>\n      <th>Hora_18</th>\n      <th>Hora_19</th>\n      <th>Hora_20</th>\n      <th>Hora_21</th>\n      <th>Hora_22</th>\n      <th>Hora_23</th>\n      <th>Hora_24</th>\n    </tr>\n  </thead>\n  <tbody>\n    <tr>\n      <th>0</th>\n      <td>AG_ARGOSCTG</td>\n      <td>0</td>\n      <td>0</td>\n      <td>0</td>\n      <td>0</td>\n      <td>0</td>\n      <td>0</td>\n      <td>0</td>\n      <td>0</td>\n      <td>0</td>\n      <td>...</td>\n      <td>0</td>\n      <td>0</td>\n      <td>0</td>\n      <td>0</td>\n      <td>0</td>\n      <td>0</td>\n      <td>0</td>\n      <td>0</td>\n      <td>0</td>\n      <td>0</td>\n    </tr>\n    <tr>\n      <th>1</th>\n      <td>AG_ARGOSYUM</td>\n      <td>0</td>\n      <td>0</td>\n      <td>0</td>\n      <td>0</td>\n      <td>0</td>\n      <td>0</td>\n      <td>0</td>\n      <td>0</td>\n      <td>0</td>\n      <td>...</td>\n      <td>0</td>\n      <td>0</td>\n      <td>0</td>\n      <td>0</td>\n      <td>0</td>\n      <td>0</td>\n      <td>0</td>\n      <td>0</td>\n      <td>0</td>\n      <td>0</td>\n    </tr>\n    <tr>\n      <th>2</th>\n      <td>AG_ELCAIRO</td>\n      <td>0</td>\n      <td>0</td>\n      <td>0</td>\n      <td>1</td>\n      <td>3</td>\n      <td>3</td>\n      <td>3</td>\n      <td>3</td>\n      <td>3</td>\n      <td>...</td>\n      <td>3</td>\n      <td>0</td>\n      <td>0</td>\n      <td>0</td>\n      <td>0</td>\n      <td>1</td>\n      <td>3</td>\n      <td>3</td>\n      <td>3</td>\n      <td>3</td>\n    </tr>\n    <tr>\n      <th>3</th>\n      <td>AG_REFICAR</td>\n      <td>9</td>\n      <td>9</td>\n      <td>9</td>\n      <td>9</td>\n      <td>9</td>\n      <td>9</td>\n      <td>9</td>\n      <td>9</td>\n      <td>9</td>\n      <td>...</td>\n      <td>9</td>\n      <td>9</td>\n      <td>9</td>\n      <td>9</td>\n      <td>9</td>\n      <td>9</td>\n      <td>9</td>\n      <td>9</td>\n      <td>9</td>\n      <td>9</td>\n    </tr>\n    <tr>\n      <th>4</th>\n      <td>AG_UNIBOL</td>\n      <td>1</td>\n      <td>1</td>\n      <td>1</td>\n      <td>1</td>\n      <td>1</td>\n      <td>1</td>\n      <td>1</td>\n      <td>1</td>\n      <td>1</td>\n      <td>...</td>\n      <td>1</td>\n      <td>1</td>\n      <td>1</td>\n      <td>1</td>\n      <td>1</td>\n      <td>1</td>\n      <td>1</td>\n      <td>1</td>\n      <td>1</td>\n      <td>1</td>\n    </tr>\n  </tbody>\n</table>\n<p>5 rows × 25 columns</p>\n</div>"
     },
     "execution_count": 6,
     "metadata": {},
     "output_type": "execute_result"
    }
   ],
   "source": [
    "# Renombrado de columnas\n",
    "num_columnas_valores = len(df_ddec.columns) - 1\n",
    "nombres_columnas = [\"Central\"] + [f\"Hora_{i+1}\" for i in range(num_columnas_valores)]\n",
    "\n",
    "df_ddec.columns = nombres_columnas\n",
    "\n",
    "df_ddec = df_ddec.copy()"
   ]
  },
  {
   "cell_type": "markdown",
   "metadata": {},
   "source": [
    "#### Merge"
   ]
  },
  {
   "cell_type": "code",
   "execution_count": 8,
   "metadata": {
    "ExecuteTime": {
     "end_time": "2024-03-10T01:44:41.721428Z",
     "start_time": "2024-03-10T01:44:41.701741Z"
    }
   },
   "outputs": [
    {
     "data": {
      "text/plain": "   Nombre_Agente  Agente_Ofei   Central Tipo_Central  Hora_1  Hora_2  Hora_3  \\\n0         EMGESA  EMGESA S.A.   BETANIA            H     364     364     364   \n3         EMGESA  EMGESA S.A.   CTGEMG1            T       0       0       0   \n4         EMGESA  EMGESA S.A.   CTGEMG2            T       0       0       0   \n5         EMGESA  EMGESA S.A.   CTGEMG3            T       0       0       0   \n6         EMGESA  EMGESA S.A.  ELQUIMBO            H      85      85      85   \n8         EMGESA  EMGESA S.A.    GUAVIO            H       0       0       0   \n13        EMGESA  EMGESA S.A.     PAGUA            H     600     600     600   \n19        EMGESA  EMGESA S.A.  ZIPAEMG2            T       0       0       0   \n20        EMGESA  EMGESA S.A.  ZIPAEMG3            T       0       0       0   \n21        EMGESA  EMGESA S.A.  ZIPAEMG4            T       0       0       0   \n22        EMGESA  EMGESA S.A.  ZIPAEMG5            T       0       0       0   \n\n    Hora_4  Hora_5  Hora_6  ...  Hora_15  Hora_16  Hora_17  Hora_18  Hora_19  \\\n0      364     364     364  ...      364      364      364      364      364   \n3        0       0       0  ...        0        0        0        0        0   \n4        0       0       0  ...        0        0        0        0        0   \n5        0       0       0  ...        0        0        0        0        0   \n6       85      85      85  ...       85       85       85       85       85   \n8        0       0       0  ...      180      180      120      120      997   \n13     600     600     600  ...      600      600      600      600      600   \n19       0       0       0  ...        0        0        0        0        0   \n20       0       0       0  ...        0        0        0        0        0   \n21       0       0       0  ...        0        0        0        0        0   \n22       0       0       0  ...        0        0        0        0        0   \n\n    Hora_20  Hora_21  Hora_22  Hora_23  Hora_24  \n0       364      364      364      364      364  \n3         0        0        0        0        0  \n4         0        0        0        0        0  \n5         0        0        0        0        0  \n6        85       85       85       85       85  \n8      1002      780      140        0        0  \n13      600      600      600      600      600  \n19        0        0        0        0        0  \n20        0        0        0        0        0  \n21        0        0        0        0        0  \n22        0        0        0        0        0  \n\n[11 rows x 28 columns]",
      "text/html": "<div>\n<style scoped>\n    .dataframe tbody tr th:only-of-type {\n        vertical-align: middle;\n    }\n\n    .dataframe tbody tr th {\n        vertical-align: top;\n    }\n\n    .dataframe thead th {\n        text-align: right;\n    }\n</style>\n<table border=\"1\" class=\"dataframe\">\n  <thead>\n    <tr style=\"text-align: right;\">\n      <th></th>\n      <th>Nombre_Agente</th>\n      <th>Agente_Ofei</th>\n      <th>Central</th>\n      <th>Tipo_Central</th>\n      <th>Hora_1</th>\n      <th>Hora_2</th>\n      <th>Hora_3</th>\n      <th>Hora_4</th>\n      <th>Hora_5</th>\n      <th>Hora_6</th>\n      <th>...</th>\n      <th>Hora_15</th>\n      <th>Hora_16</th>\n      <th>Hora_17</th>\n      <th>Hora_18</th>\n      <th>Hora_19</th>\n      <th>Hora_20</th>\n      <th>Hora_21</th>\n      <th>Hora_22</th>\n      <th>Hora_23</th>\n      <th>Hora_24</th>\n    </tr>\n  </thead>\n  <tbody>\n    <tr>\n      <th>0</th>\n      <td>EMGESA</td>\n      <td>EMGESA S.A.</td>\n      <td>BETANIA</td>\n      <td>H</td>\n      <td>364</td>\n      <td>364</td>\n      <td>364</td>\n      <td>364</td>\n      <td>364</td>\n      <td>364</td>\n      <td>...</td>\n      <td>364</td>\n      <td>364</td>\n      <td>364</td>\n      <td>364</td>\n      <td>364</td>\n      <td>364</td>\n      <td>364</td>\n      <td>364</td>\n      <td>364</td>\n      <td>364</td>\n    </tr>\n    <tr>\n      <th>3</th>\n      <td>EMGESA</td>\n      <td>EMGESA S.A.</td>\n      <td>CTGEMG1</td>\n      <td>T</td>\n      <td>0</td>\n      <td>0</td>\n      <td>0</td>\n      <td>0</td>\n      <td>0</td>\n      <td>0</td>\n      <td>...</td>\n      <td>0</td>\n      <td>0</td>\n      <td>0</td>\n      <td>0</td>\n      <td>0</td>\n      <td>0</td>\n      <td>0</td>\n      <td>0</td>\n      <td>0</td>\n      <td>0</td>\n    </tr>\n    <tr>\n      <th>4</th>\n      <td>EMGESA</td>\n      <td>EMGESA S.A.</td>\n      <td>CTGEMG2</td>\n      <td>T</td>\n      <td>0</td>\n      <td>0</td>\n      <td>0</td>\n      <td>0</td>\n      <td>0</td>\n      <td>0</td>\n      <td>...</td>\n      <td>0</td>\n      <td>0</td>\n      <td>0</td>\n      <td>0</td>\n      <td>0</td>\n      <td>0</td>\n      <td>0</td>\n      <td>0</td>\n      <td>0</td>\n      <td>0</td>\n    </tr>\n    <tr>\n      <th>5</th>\n      <td>EMGESA</td>\n      <td>EMGESA S.A.</td>\n      <td>CTGEMG3</td>\n      <td>T</td>\n      <td>0</td>\n      <td>0</td>\n      <td>0</td>\n      <td>0</td>\n      <td>0</td>\n      <td>0</td>\n      <td>...</td>\n      <td>0</td>\n      <td>0</td>\n      <td>0</td>\n      <td>0</td>\n      <td>0</td>\n      <td>0</td>\n      <td>0</td>\n      <td>0</td>\n      <td>0</td>\n      <td>0</td>\n    </tr>\n    <tr>\n      <th>6</th>\n      <td>EMGESA</td>\n      <td>EMGESA S.A.</td>\n      <td>ELQUIMBO</td>\n      <td>H</td>\n      <td>85</td>\n      <td>85</td>\n      <td>85</td>\n      <td>85</td>\n      <td>85</td>\n      <td>85</td>\n      <td>...</td>\n      <td>85</td>\n      <td>85</td>\n      <td>85</td>\n      <td>85</td>\n      <td>85</td>\n      <td>85</td>\n      <td>85</td>\n      <td>85</td>\n      <td>85</td>\n      <td>85</td>\n    </tr>\n    <tr>\n      <th>8</th>\n      <td>EMGESA</td>\n      <td>EMGESA S.A.</td>\n      <td>GUAVIO</td>\n      <td>H</td>\n      <td>0</td>\n      <td>0</td>\n      <td>0</td>\n      <td>0</td>\n      <td>0</td>\n      <td>0</td>\n      <td>...</td>\n      <td>180</td>\n      <td>180</td>\n      <td>120</td>\n      <td>120</td>\n      <td>997</td>\n      <td>1002</td>\n      <td>780</td>\n      <td>140</td>\n      <td>0</td>\n      <td>0</td>\n    </tr>\n    <tr>\n      <th>13</th>\n      <td>EMGESA</td>\n      <td>EMGESA S.A.</td>\n      <td>PAGUA</td>\n      <td>H</td>\n      <td>600</td>\n      <td>600</td>\n      <td>600</td>\n      <td>600</td>\n      <td>600</td>\n      <td>600</td>\n      <td>...</td>\n      <td>600</td>\n      <td>600</td>\n      <td>600</td>\n      <td>600</td>\n      <td>600</td>\n      <td>600</td>\n      <td>600</td>\n      <td>600</td>\n      <td>600</td>\n      <td>600</td>\n    </tr>\n    <tr>\n      <th>19</th>\n      <td>EMGESA</td>\n      <td>EMGESA S.A.</td>\n      <td>ZIPAEMG2</td>\n      <td>T</td>\n      <td>0</td>\n      <td>0</td>\n      <td>0</td>\n      <td>0</td>\n      <td>0</td>\n      <td>0</td>\n      <td>...</td>\n      <td>0</td>\n      <td>0</td>\n      <td>0</td>\n      <td>0</td>\n      <td>0</td>\n      <td>0</td>\n      <td>0</td>\n      <td>0</td>\n      <td>0</td>\n      <td>0</td>\n    </tr>\n    <tr>\n      <th>20</th>\n      <td>EMGESA</td>\n      <td>EMGESA S.A.</td>\n      <td>ZIPAEMG3</td>\n      <td>T</td>\n      <td>0</td>\n      <td>0</td>\n      <td>0</td>\n      <td>0</td>\n      <td>0</td>\n      <td>0</td>\n      <td>...</td>\n      <td>0</td>\n      <td>0</td>\n      <td>0</td>\n      <td>0</td>\n      <td>0</td>\n      <td>0</td>\n      <td>0</td>\n      <td>0</td>\n      <td>0</td>\n      <td>0</td>\n    </tr>\n    <tr>\n      <th>21</th>\n      <td>EMGESA</td>\n      <td>EMGESA S.A.</td>\n      <td>ZIPAEMG4</td>\n      <td>T</td>\n      <td>0</td>\n      <td>0</td>\n      <td>0</td>\n      <td>0</td>\n      <td>0</td>\n      <td>0</td>\n      <td>...</td>\n      <td>0</td>\n      <td>0</td>\n      <td>0</td>\n      <td>0</td>\n      <td>0</td>\n      <td>0</td>\n      <td>0</td>\n      <td>0</td>\n      <td>0</td>\n      <td>0</td>\n    </tr>\n    <tr>\n      <th>22</th>\n      <td>EMGESA</td>\n      <td>EMGESA S.A.</td>\n      <td>ZIPAEMG5</td>\n      <td>T</td>\n      <td>0</td>\n      <td>0</td>\n      <td>0</td>\n      <td>0</td>\n      <td>0</td>\n      <td>0</td>\n      <td>...</td>\n      <td>0</td>\n      <td>0</td>\n      <td>0</td>\n      <td>0</td>\n      <td>0</td>\n      <td>0</td>\n      <td>0</td>\n      <td>0</td>\n      <td>0</td>\n      <td>0</td>\n    </tr>\n  </tbody>\n</table>\n<p>11 rows × 28 columns</p>\n</div>"
     },
     "execution_count": 8,
     "metadata": {},
     "output_type": "execute_result"
    }
   ],
   "source": [
    "df_merge = df_datos_maestros.merge(\n",
    "    df_ddec, left_on=\"Central\", right_on=\"Central\", how=\"inner\"\n",
    ")\n",
    "# Elimino duplicados del merge\n",
    "df_sin_duplicados = df_merge.drop_duplicates()"
   ]
  },
  {
   "cell_type": "code",
   "execution_count": 27,
   "metadata": {
    "ExecuteTime": {
     "end_time": "2024-03-07T16:17:17.489435Z",
     "start_time": "2024-03-07T16:17:17.480795Z"
    }
   },
   "outputs": [],
   "source": [
    "# Selecciono las columnas y creo el campo con la suma total\n",
    "df_suma_total = df_sin_duplicados.loc[:, \"Hora_1\":]\n",
    "df_suma_total[\"Total_Horas\"] = df_suma_total.sum(axis=1)\n",
    "\n",
    "# Conservo las columnas 'Nombre_Agente', 'Agente_Ofei', 'Central' y agrego la columna 'Total_Horas'\n",
    "df_final = pd.concat(\n",
    "    [df_sin_duplicados[[\"Nombre_Agente\", \"Agente_Ofei\", \"Central\"]], df_suma_total],\n",
    "    axis=1,\n",
    ")\n",
    "\n",
    "# Limpieza de campo \"Agente_Ofei\"\n",
    "df_final[\"Agente_Ofei\"] = df_final[\"Agente_Ofei\"].apply(lambda x: re.sub(r'[^a-zA-Z\\s]', \"\", x))"
   ]
  },
  {
   "cell_type": "code",
   "execution_count": 28,
   "metadata": {
    "ExecuteTime": {
     "end_time": "2024-03-07T16:17:17.496203Z",
     "start_time": "2024-03-07T16:17:17.491560Z"
    }
   },
   "outputs": [],
   "source": [
    "# Selección de columnas > 0\n",
    "datos_mayor_cero = (df_final['Total_Horas'] > 0)\n",
    "df_final = df_final[datos_mayor_cero]"
   ]
  },
  {
   "cell_type": "code",
   "execution_count": 29,
   "metadata": {
    "ExecuteTime": {
     "end_time": "2024-03-07T16:17:17.504710Z",
     "start_time": "2024-03-07T16:17:17.499436Z"
    }
   },
   "outputs": [],
   "source": [
    "# Creación del Id\n",
    "df_final[\"Id\"] = range(1, len(df_final) + 1)"
   ]
  },
  {
   "cell_type": "code",
   "execution_count": 30,
   "metadata": {
    "ExecuteTime": {
     "end_time": "2024-03-07T16:17:17.512683Z",
     "start_time": "2024-03-07T16:17:17.506291Z"
    }
   },
   "outputs": [],
   "source": [
    "# Selección de columnas finales\n",
    "columnas_a = ['Id', 'Nombre_Agente', 'Agente_Ofei', 'Central']\n",
    "# columnas_b = df_final.loc[:, 'Hora_1':'Total_Horas'].astype('float')\n",
    "columnas_b = df_final.loc[:, 'Total_Horas':'Total_Horas'].astype('float')\n",
    "df_final = pd.concat([df_final[columnas_a], columnas_b], axis=1)"
   ]
  },
  {
   "cell_type": "markdown",
   "metadata": {},
   "source": [
    "## Load"
   ]
  },
  {
   "cell_type": "code",
   "execution_count": 31,
   "metadata": {
    "ExecuteTime": {
     "end_time": "2024-03-07T16:17:17.520913Z",
     "start_time": "2024-03-07T16:17:17.516098Z"
    }
   },
   "outputs": [],
   "source": [
    "def carga_df_tabla(dataframe, engine, table_name):\n",
    "    try:\n",
    "        conn = engine.connect()\n",
    "        columns = dataframe.columns.tolist()\n",
    "        dataframe.to_sql(name=table_name, con=engine, if_exists=\"replace\", index=False)\n",
    "        print(f\"Los datos se han cargado correctamente en la tabla {table_name}\")\n",
    "    except Exception as e:\n",
    "        print(f\"Error al cargar datos desde el DataFrame a la tabla {table_name}: {e}\")\n",
    "    finally:\n",
    "        conn.close()"
   ]
  },
  {
   "cell_type": "code",
   "execution_count": 32,
   "metadata": {
    "ExecuteTime": {
     "end_time": "2024-03-07T16:17:17.579342Z",
     "start_time": "2024-03-07T16:17:17.522648Z"
    }
   },
   "outputs": [
    {
     "name": "stdout",
     "output_type": "stream",
     "text": [
      "Los datos se han cargado correctamente en la tabla tbl_datos_agente\n"
     ]
    }
   ],
   "source": [
    "carga_df_tabla(df_final, engine, \"tbl_datos_agente\")"
   ]
  }
 ],
 "metadata": {
  "kernelspec": {
   "display_name": ".venv",
   "language": "python",
   "name": "python3"
  },
  "language_info": {
   "codemirror_mode": {
    "name": "ipython",
    "version": 3
   },
   "file_extension": ".py",
   "mimetype": "text/x-python",
   "name": "python",
   "nbconvert_exporter": "python",
   "pygments_lexer": "ipython3",
   "version": "3.12.2"
  }
 },
 "nbformat": 4,
 "nbformat_minor": 2
}
