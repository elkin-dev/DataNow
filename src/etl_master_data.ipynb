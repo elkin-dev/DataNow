{
 "cells": [
  {
   "cell_type": "markdown",
   "metadata": {},
   "source": [
    "## ETL de Carga de información de Datos Maestros VF.xlsx"
   ]
  },
  {
   "cell_type": "markdown",
   "metadata": {},
   "source": [
    "## Installation of base libraries"
   ]
  },
  {
   "cell_type": "code",
   "execution_count": 21,
   "metadata": {
    "ExecuteTime": {
     "end_time": "2024-03-07T16:17:17.212343Z",
     "start_time": "2024-03-07T16:17:17.208893Z"
    }
   },
   "outputs": [],
   "source": [
    "import pandas as pd\n",
    "from config.db_config import engine\n",
    "import re"
   ]
  },
  {
   "cell_type": "markdown",
   "metadata": {},
   "source": [
    "## Extraction"
   ]
  },
  {
   "cell_type": "code",
   "execution_count": 22,
   "metadata": {
    "ExecuteTime": {
     "end_time": "2024-03-07T16:17:17.426380Z",
     "start_time": "2024-03-07T16:17:17.261369Z"
    }
   },
   "outputs": [],
   "source": [
    "# Se extrae el primer source\n",
    "df_datos_maestros = pd.read_excel(\"../data/Datos Maestros VF.xlsx\")"
   ]
  },
  {
   "cell_type": "code",
   "execution_count": 23,
   "metadata": {
    "ExecuteTime": {
     "end_time": "2024-03-07T16:17:17.436557Z",
     "start_time": "2024-03-07T16:17:17.427945Z"
    }
   },
   "outputs": [],
   "source": [
    "# Se extrae el segundo source\n",
    "df_ddec = pd.read_csv(\n",
    "    \"../data/dDEC1204.TXT\", delimiter=\",\", header=None, encoding=\"latin1\"\n",
    ")"
   ]
  },
  {
   "cell_type": "markdown",
   "metadata": {},
   "source": [
    "## Transformation"
   ]
  },
  {
   "cell_type": "code",
   "execution_count": 24,
   "metadata": {
    "ExecuteTime": {
     "end_time": "2024-03-07T16:17:17.450994Z",
     "start_time": "2024-03-07T16:17:17.438933Z"
    }
   },
   "outputs": [],
   "source": [
    "# Renombrado de columnas\n",
    "columnas = [\n",
    "    \"Nombre visible Agente\",\n",
    "    \"AGENTE (OFEI)\",\n",
    "    \"CENTRAL (dDEC, dSEGDES, dPRU…)\",\n",
    "    \"Tipo de central (Hidro, Termo, Filo, Menor)\",\n",
    "]\n",
    "df_datos_maestros = pd.DataFrame(df_datos_maestros, columns=columnas)\n",
    "df_datos_maestros = df_datos_maestros.rename(\n",
    "    columns={\n",
    "        \"Nombre visible Agente\": \"Nombre_Agente\",\n",
    "        \"AGENTE (OFEI)\": \"Agente_Ofei\",\n",
    "        \"CENTRAL (dDEC, dSEGDES, dPRU…)\": \"Central\",\n",
    "        \"Tipo de central (Hidro, Termo, Filo, Menor)\": \"Tipo_Central\",\n",
    "    }\n",
    ")\n",
    "# Filtros solicitados\n",
    "condicion = (\n",
    "    (df_datos_maestros[\"Agente_Ofei\"] == \"EMGESA\")\n",
    "    | (df_datos_maestros[\"Agente_Ofei\"] == \"EMGESA S.A.\")\n",
    ") & (\n",
    "    (df_datos_maestros[\"Tipo_Central\"] == \"H\")\n",
    "    | (df_datos_maestros[\"Tipo_Central\"] == \"T\")\n",
    ")\n",
    "df_filtrado = df_datos_maestros[condicion]\n",
    "df_datos_maestros = df_filtrado"
   ]
  },
  {
   "cell_type": "code",
   "execution_count": 25,
   "metadata": {
    "ExecuteTime": {
     "end_time": "2024-03-07T16:17:17.466826Z",
     "start_time": "2024-03-07T16:17:17.456088Z"
    }
   },
   "outputs": [],
   "source": [
    "# Renombrado de columnas\n",
    "num_columnas_valores = len(df_ddec.columns) - 1\n",
    "nombres_columnas = [\"Central\"] + [f\"Hora_{i+1}\" for i in range(num_columnas_valores)]\n",
    "\n",
    "df_ddec.columns = nombres_columnas\n",
    "\n",
    "df_ddec = df_ddec.copy()"
   ]
  },
  {
   "cell_type": "markdown",
   "metadata": {},
   "source": [
    "#### Merge"
   ]
  },
  {
   "cell_type": "code",
   "execution_count": 26,
   "metadata": {
    "ExecuteTime": {
     "end_time": "2024-03-07T16:17:17.479731Z",
     "start_time": "2024-03-07T16:17:17.469021Z"
    }
   },
   "outputs": [],
   "source": [
    "df_merge = df_datos_maestros.merge(\n",
    "    df_ddec, left_on=\"Central\", right_on=\"Central\", how=\"inner\"\n",
    ")\n",
    "# Elimino duplicados del merge\n",
    "df_sin_duplicados = df_merge.drop_duplicates()"
   ]
  },
  {
   "cell_type": "code",
   "execution_count": 27,
   "metadata": {
    "ExecuteTime": {
     "end_time": "2024-03-07T16:17:17.489435Z",
     "start_time": "2024-03-07T16:17:17.480795Z"
    }
   },
   "outputs": [],
   "source": [
    "# Selecciono las columnas y creo el campo con la suma total\n",
    "df_suma_total = df_sin_duplicados.loc[:, \"Hora_1\":]\n",
    "df_suma_total[\"Total_Horas\"] = df_suma_total.sum(axis=1)\n",
    "\n",
    "# Conservo las columnas 'Nombre_Agente', 'Agente_Ofei', 'Central' y agrego la columna 'Total_Horas'\n",
    "df_final = pd.concat(\n",
    "    [df_sin_duplicados[[\"Nombre_Agente\", \"Agente_Ofei\", \"Central\"]], df_suma_total],\n",
    "    axis=1,\n",
    ")\n",
    "\n",
    "# Limpieza de campo \"Agente_Ofei\"\n",
    "df_final[\"Agente_Ofei\"] = df_final[\"Agente_Ofei\"].apply(lambda x: re.sub(r'[^a-zA-Z\\s]', \"\", x))"
   ]
  },
  {
   "cell_type": "code",
   "execution_count": 28,
   "metadata": {
    "ExecuteTime": {
     "end_time": "2024-03-07T16:17:17.496203Z",
     "start_time": "2024-03-07T16:17:17.491560Z"
    }
   },
   "outputs": [],
   "source": [
    "# Selección de columnas > 0\n",
    "datos_mayor_cero = (df_final['Total_Horas'] > 0)\n",
    "df_final = df_final[datos_mayor_cero]"
   ]
  },
  {
   "cell_type": "code",
   "execution_count": 29,
   "metadata": {
    "ExecuteTime": {
     "end_time": "2024-03-07T16:17:17.504710Z",
     "start_time": "2024-03-07T16:17:17.499436Z"
    }
   },
   "outputs": [],
   "source": [
    "# Creación del Id\n",
    "df_final[\"Id\"] = range(1, len(df_final) + 1)"
   ]
  },
  {
   "cell_type": "code",
   "execution_count": 30,
   "metadata": {
    "ExecuteTime": {
     "end_time": "2024-03-07T16:17:17.512683Z",
     "start_time": "2024-03-07T16:17:17.506291Z"
    }
   },
   "outputs": [],
   "source": [
    "# Selección de columnas finales\n",
    "columnas_a = ['Id', 'Nombre_Agente', 'Agente_Ofei', 'Central']\n",
    "# columnas_b = df_final.loc[:, 'Hora_1':'Total_Horas'].astype('float')\n",
    "columnas_b = df_final.loc[:, 'Total_Horas':'Total_Horas'].astype('float')\n",
    "df_final = pd.concat([df_final[columnas_a], columnas_b], axis=1)"
   ]
  },
  {
   "cell_type": "markdown",
   "metadata": {},
   "source": [
    "## Load"
   ]
  },
  {
   "cell_type": "code",
   "execution_count": 31,
   "metadata": {
    "ExecuteTime": {
     "end_time": "2024-03-07T16:17:17.520913Z",
     "start_time": "2024-03-07T16:17:17.516098Z"
    }
   },
   "outputs": [],
   "source": [
    "def carga_df_tabla(dataframe, engine, table_name):\n",
    "    try:\n",
    "        conn = engine.connect()\n",
    "        columns = dataframe.columns.tolist()\n",
    "        dataframe.to_sql(name=table_name, con=engine, if_exists=\"replace\", index=False)\n",
    "        print(f\"Los datos se han cargado correctamente en la tabla {table_name}\")\n",
    "    except Exception as e:\n",
    "        print(f\"Error al cargar datos desde el DataFrame a la tabla {table_name}: {e}\")\n",
    "    finally:\n",
    "        conn.close()"
   ]
  },
  {
   "cell_type": "code",
   "execution_count": 32,
   "metadata": {
    "ExecuteTime": {
     "end_time": "2024-03-07T16:17:17.579342Z",
     "start_time": "2024-03-07T16:17:17.522648Z"
    }
   },
   "outputs": [
    {
     "name": "stdout",
     "output_type": "stream",
     "text": [
      "Los datos se han cargado correctamente en la tabla tbl_datos_agente\n"
     ]
    }
   ],
   "source": [
    "carga_df_tabla(df_final, engine, \"tbl_datos_agente\")"
   ]
  }
 ],
 "metadata": {
  "kernelspec": {
   "display_name": ".venv",
   "language": "python",
   "name": "python3"
  },
  "language_info": {
   "codemirror_mode": {
    "name": "ipython",
    "version": 3
   },
   "file_extension": ".py",
   "mimetype": "text/x-python",
   "name": "python",
   "nbconvert_exporter": "python",
   "pygments_lexer": "ipython3",
   "version": "3.12.2"
  }
 },
 "nbformat": 4,
 "nbformat_minor": 2
}
