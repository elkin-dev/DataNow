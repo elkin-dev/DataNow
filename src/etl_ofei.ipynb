{
 "cells": [
  {
   "cell_type": "markdown",
   "metadata": {},
   "source": [
    "## ETL de Carga de información de OFEI1204.txt"
   ]
  },
  {
   "cell_type": "markdown",
   "metadata": {},
   "source": [
    "## Installation of base libraries"
   ]
  },
  {
   "cell_type": "code",
   "execution_count": 21,
   "metadata": {
    "ExecuteTime": {
     "end_time": "2024-03-10T01:37:02.256437Z",
     "start_time": "2024-03-10T01:37:02.228150Z"
    }
   },
   "outputs": [],
   "source": [
    "import pandas as pd\n",
    "from unidecode import unidecode\n",
    "import re\n",
    "from config.db_config import engine"
   ]
  },
  {
   "cell_type": "markdown",
   "metadata": {},
   "source": [
    "## Extraction"
   ]
  },
  {
   "cell_type": "code",
   "execution_count": 22,
   "metadata": {
    "ExecuteTime": {
     "end_time": "2024-03-10T01:37:06.832620Z",
     "start_time": "2024-03-10T01:37:06.823525Z"
    }
   },
   "outputs": [],
   "source": [
    "def lectura_archivo(archivo):\n",
    "    datos = []\n",
    "    agente_actual = None\n",
    "\n",
    "    try:\n",
    "        with open(archivo, \"r\", encoding=\"UTF-8\") as archivo:\n",
    "            for linea in archivo:\n",
    "                linea = linea.strip()\n",
    "                if linea.startswith(\"AGENTE:\"):\n",
    "                    agente_actual = linea.split(\"AGENTE:\")[1].strip()\n",
    "                elif (\n",
    "                    linea\n",
    "                    and not linea.startswith(\"Ofertas Iniciales\")\n",
    "                    and agente_actual is not None\n",
    "                ):\n",
    "                    partes = linea.split(\",\")\n",
    "                    tipo = partes[1].strip()\n",
    "                    planta = partes[0].strip()\n",
    "                    valores = partes[2:]\n",
    "                    datos.append([agente_actual, planta, tipo] + valores)\n",
    "    except Exception as e:\n",
    "        print(\"Error al cargar el archivo:\", e)\n",
    "\n",
    "    return datos"
   ]
  },
  {
   "cell_type": "code",
   "execution_count": 13,
   "metadata": {
    "ExecuteTime": {
     "end_time": "2024-03-09T19:59:22.162633Z",
     "start_time": "2024-03-09T19:59:22.153631Z"
    }
   },
   "outputs": [],
   "source": [
    "# Uso de la función\n",
    "datos = lectura_archivo(\"../data/OFEI1204.txt\")\n",
    "num_columnas_valores = len(datos[0]) - 3\n",
    "nombres_columnas_valores = [f\"Hora_{i+1}\" for i in range(num_columnas_valores)]"
   ]
  },
  {
   "cell_type": "markdown",
   "metadata": {},
   "source": [
    "## Transformation"
   ]
  },
  {
   "cell_type": "code",
   "execution_count": 26,
   "metadata": {
    "collapsed": false,
    "ExecuteTime": {
     "end_time": "2024-03-10T01:38:39.068143Z",
     "start_time": "2024-03-10T01:38:39.043990Z"
    }
   },
   "outputs": [
    {
     "data": {
      "text/plain": "         Agente               Planta Tipo   Hora_1   Hora_2   Hora_3   Hora_4  \\\n0    AES CHIVOR              CHIVOR1    D      125      125      125      125   \n1    AES CHIVOR              CHIVOR2    D      125      125      125      125   \n2    AES CHIVOR              CHIVOR3    D      125      125      125      125   \n3    AES CHIVOR              CHIVOR4    D      125      125      125      125   \n4    AES CHIVOR              CHIVOR5    D      125      125      125      125   \n..          ...                  ...  ...      ...      ...      ...      ...   \n454  VATIA S.A.             SANTIAGO    D     1.52     1.52     1.52     1.52   \n455  VATIA S.A.             INCAUCA1    D     8.50     8.50     8.50     8.50   \n456  VATIA S.A.  INGENIOPROVIDENCIA2    D    13.80    13.80    13.80    13.80   \n457   ZF CELSIA              FLORES1    D        0        0        0        0   \n460   ZF CELSIA             FLORES4B    D      450      450      450      450   \n\n      Hora_5   Hora_6   Hora_7  ...  Hora_15  Hora_16  Hora_17  Hora_18  \\\n0        125      125      125  ...      125      125      125      125   \n1        125      125      125  ...      125      125      125      125   \n2        125      125      125  ...      125      125      125      125   \n3        125      125      125  ...      125      125      125      125   \n4        125      125      125  ...      125      125      125      125   \n..       ...      ...      ...  ...      ...      ...      ...      ...   \n454     1.52     1.52     1.52  ...     1.52     1.52     1.52     1.52   \n455     8.50     8.50     8.50  ...     8.50     8.50     8.50     8.50   \n456    13.80    13.80    13.80  ...    13.80    13.80    13.80    13.80   \n457        0        0        0  ...        0        0        0        0   \n460      450      450      450  ...      450      450      450      450   \n\n     Hora_19  Hora_20  Hora_21  Hora_22  Hora_23  Hora_24  \n0        125      125      125      125      125      125  \n1        125      125      125      125      125      125  \n2        125      125      125      125      125      125  \n3        125      125      125      125      125      125  \n4        125      125      125      125      125      125  \n..       ...      ...      ...      ...      ...      ...  \n454     1.52     1.52     1.52     1.52     1.52     1.52  \n455     8.50     8.50     8.50     8.50     8.50     8.50  \n456    13.80    13.80    13.80    13.80    13.80    13.80  \n457        0        0        0        0        0        0  \n460      450      450      450      450      450      450  \n\n[305 rows x 27 columns]",
      "text/html": "<div>\n<style scoped>\n    .dataframe tbody tr th:only-of-type {\n        vertical-align: middle;\n    }\n\n    .dataframe tbody tr th {\n        vertical-align: top;\n    }\n\n    .dataframe thead th {\n        text-align: right;\n    }\n</style>\n<table border=\"1\" class=\"dataframe\">\n  <thead>\n    <tr style=\"text-align: right;\">\n      <th></th>\n      <th>Agente</th>\n      <th>Planta</th>\n      <th>Tipo</th>\n      <th>Hora_1</th>\n      <th>Hora_2</th>\n      <th>Hora_3</th>\n      <th>Hora_4</th>\n      <th>Hora_5</th>\n      <th>Hora_6</th>\n      <th>Hora_7</th>\n      <th>...</th>\n      <th>Hora_15</th>\n      <th>Hora_16</th>\n      <th>Hora_17</th>\n      <th>Hora_18</th>\n      <th>Hora_19</th>\n      <th>Hora_20</th>\n      <th>Hora_21</th>\n      <th>Hora_22</th>\n      <th>Hora_23</th>\n      <th>Hora_24</th>\n    </tr>\n  </thead>\n  <tbody>\n    <tr>\n      <th>0</th>\n      <td>AES CHIVOR</td>\n      <td>CHIVOR1</td>\n      <td>D</td>\n      <td>125</td>\n      <td>125</td>\n      <td>125</td>\n      <td>125</td>\n      <td>125</td>\n      <td>125</td>\n      <td>125</td>\n      <td>...</td>\n      <td>125</td>\n      <td>125</td>\n      <td>125</td>\n      <td>125</td>\n      <td>125</td>\n      <td>125</td>\n      <td>125</td>\n      <td>125</td>\n      <td>125</td>\n      <td>125</td>\n    </tr>\n    <tr>\n      <th>1</th>\n      <td>AES CHIVOR</td>\n      <td>CHIVOR2</td>\n      <td>D</td>\n      <td>125</td>\n      <td>125</td>\n      <td>125</td>\n      <td>125</td>\n      <td>125</td>\n      <td>125</td>\n      <td>125</td>\n      <td>...</td>\n      <td>125</td>\n      <td>125</td>\n      <td>125</td>\n      <td>125</td>\n      <td>125</td>\n      <td>125</td>\n      <td>125</td>\n      <td>125</td>\n      <td>125</td>\n      <td>125</td>\n    </tr>\n    <tr>\n      <th>2</th>\n      <td>AES CHIVOR</td>\n      <td>CHIVOR3</td>\n      <td>D</td>\n      <td>125</td>\n      <td>125</td>\n      <td>125</td>\n      <td>125</td>\n      <td>125</td>\n      <td>125</td>\n      <td>125</td>\n      <td>...</td>\n      <td>125</td>\n      <td>125</td>\n      <td>125</td>\n      <td>125</td>\n      <td>125</td>\n      <td>125</td>\n      <td>125</td>\n      <td>125</td>\n      <td>125</td>\n      <td>125</td>\n    </tr>\n    <tr>\n      <th>3</th>\n      <td>AES CHIVOR</td>\n      <td>CHIVOR4</td>\n      <td>D</td>\n      <td>125</td>\n      <td>125</td>\n      <td>125</td>\n      <td>125</td>\n      <td>125</td>\n      <td>125</td>\n      <td>125</td>\n      <td>...</td>\n      <td>125</td>\n      <td>125</td>\n      <td>125</td>\n      <td>125</td>\n      <td>125</td>\n      <td>125</td>\n      <td>125</td>\n      <td>125</td>\n      <td>125</td>\n      <td>125</td>\n    </tr>\n    <tr>\n      <th>4</th>\n      <td>AES CHIVOR</td>\n      <td>CHIVOR5</td>\n      <td>D</td>\n      <td>125</td>\n      <td>125</td>\n      <td>125</td>\n      <td>125</td>\n      <td>125</td>\n      <td>125</td>\n      <td>125</td>\n      <td>...</td>\n      <td>125</td>\n      <td>125</td>\n      <td>125</td>\n      <td>125</td>\n      <td>125</td>\n      <td>125</td>\n      <td>125</td>\n      <td>125</td>\n      <td>125</td>\n      <td>125</td>\n    </tr>\n    <tr>\n      <th>...</th>\n      <td>...</td>\n      <td>...</td>\n      <td>...</td>\n      <td>...</td>\n      <td>...</td>\n      <td>...</td>\n      <td>...</td>\n      <td>...</td>\n      <td>...</td>\n      <td>...</td>\n      <td>...</td>\n      <td>...</td>\n      <td>...</td>\n      <td>...</td>\n      <td>...</td>\n      <td>...</td>\n      <td>...</td>\n      <td>...</td>\n      <td>...</td>\n      <td>...</td>\n      <td>...</td>\n    </tr>\n    <tr>\n      <th>454</th>\n      <td>VATIA S.A.</td>\n      <td>SANTIAGO</td>\n      <td>D</td>\n      <td>1.52</td>\n      <td>1.52</td>\n      <td>1.52</td>\n      <td>1.52</td>\n      <td>1.52</td>\n      <td>1.52</td>\n      <td>1.52</td>\n      <td>...</td>\n      <td>1.52</td>\n      <td>1.52</td>\n      <td>1.52</td>\n      <td>1.52</td>\n      <td>1.52</td>\n      <td>1.52</td>\n      <td>1.52</td>\n      <td>1.52</td>\n      <td>1.52</td>\n      <td>1.52</td>\n    </tr>\n    <tr>\n      <th>455</th>\n      <td>VATIA S.A.</td>\n      <td>INCAUCA1</td>\n      <td>D</td>\n      <td>8.50</td>\n      <td>8.50</td>\n      <td>8.50</td>\n      <td>8.50</td>\n      <td>8.50</td>\n      <td>8.50</td>\n      <td>8.50</td>\n      <td>...</td>\n      <td>8.50</td>\n      <td>8.50</td>\n      <td>8.50</td>\n      <td>8.50</td>\n      <td>8.50</td>\n      <td>8.50</td>\n      <td>8.50</td>\n      <td>8.50</td>\n      <td>8.50</td>\n      <td>8.50</td>\n    </tr>\n    <tr>\n      <th>456</th>\n      <td>VATIA S.A.</td>\n      <td>INGENIOPROVIDENCIA2</td>\n      <td>D</td>\n      <td>13.80</td>\n      <td>13.80</td>\n      <td>13.80</td>\n      <td>13.80</td>\n      <td>13.80</td>\n      <td>13.80</td>\n      <td>13.80</td>\n      <td>...</td>\n      <td>13.80</td>\n      <td>13.80</td>\n      <td>13.80</td>\n      <td>13.80</td>\n      <td>13.80</td>\n      <td>13.80</td>\n      <td>13.80</td>\n      <td>13.80</td>\n      <td>13.80</td>\n      <td>13.80</td>\n    </tr>\n    <tr>\n      <th>457</th>\n      <td>ZF CELSIA</td>\n      <td>FLORES1</td>\n      <td>D</td>\n      <td>0</td>\n      <td>0</td>\n      <td>0</td>\n      <td>0</td>\n      <td>0</td>\n      <td>0</td>\n      <td>0</td>\n      <td>...</td>\n      <td>0</td>\n      <td>0</td>\n      <td>0</td>\n      <td>0</td>\n      <td>0</td>\n      <td>0</td>\n      <td>0</td>\n      <td>0</td>\n      <td>0</td>\n      <td>0</td>\n    </tr>\n    <tr>\n      <th>460</th>\n      <td>ZF CELSIA</td>\n      <td>FLORES4B</td>\n      <td>D</td>\n      <td>450</td>\n      <td>450</td>\n      <td>450</td>\n      <td>450</td>\n      <td>450</td>\n      <td>450</td>\n      <td>450</td>\n      <td>...</td>\n      <td>450</td>\n      <td>450</td>\n      <td>450</td>\n      <td>450</td>\n      <td>450</td>\n      <td>450</td>\n      <td>450</td>\n      <td>450</td>\n      <td>450</td>\n      <td>450</td>\n    </tr>\n  </tbody>\n</table>\n<p>305 rows × 27 columns</p>\n</div>"
     },
     "execution_count": 26,
     "metadata": {},
     "output_type": "execute_result"
    }
   ],
   "source": [
    "# Creación del DataFrame\n",
    "df = pd.DataFrame(\n",
    "    datos, columns=[\"Agente\", \"Planta\", \"Tipo\"] + nombres_columnas_valores\n",
    ")\n",
    "\n",
    "# Filtro los datos según el tipo 'D'\n",
    "df[\"Tipo\"] = df[\"Tipo\"].str.upper()\n",
    "df_tipo_d = df[df[\"Tipo\"] == \"D\"]\n",
    "df_tipo_d = df_tipo_d.copy()"
   ]
  },
  {
   "cell_type": "code",
   "execution_count": 15,
   "metadata": {
    "ExecuteTime": {
     "end_time": "2024-03-09T19:59:22.196339Z",
     "start_time": "2024-03-09T19:59:22.185479Z"
    }
   },
   "outputs": [],
   "source": [
    "# Aplicar unidecode y luego reemplazar guiones y paréntesis por espacios\n",
    "df_tipo_d[\"Agente\"] = df_tipo_d[\"Agente\"].apply(lambda x: unidecode(x).replace('-', ' ').replace('(', ' ').replace(')', ' '))\n",
    "df_tipo_d[\"Planta\"] = df_tipo_d[\"Planta\"].apply(lambda x: unidecode(x).replace('-', '').replace('(', ' ').replace(')', ' '))\n",
    "\n",
    "# Limpieza de los campos Agente, Planta\n",
    "df_tipo_d[\"Agente\"] = df_tipo_d[\"Agente\"].apply(lambda x: re.sub(r'[^0-9a-zA-Z\\s]', \"\", x))\n",
    "df_tipo_d[\"Planta\"] = df_tipo_d[\"Planta\"].apply(lambda x: re.sub(r'[^0-9a-zA-Z\\s]', \"\", x))"
   ]
  },
  {
   "cell_type": "code",
   "execution_count": 16,
   "metadata": {
    "ExecuteTime": {
     "end_time": "2024-03-09T19:59:22.202833Z",
     "start_time": "2024-03-09T19:59:22.198350Z"
    }
   },
   "outputs": [],
   "source": [
    "df_tipo_d[\"Id\"] = range(1, len(df_tipo_d) + 1)"
   ]
  },
  {
   "cell_type": "code",
   "execution_count": 17,
   "metadata": {
    "ExecuteTime": {
     "end_time": "2024-03-09T19:59:22.214352Z",
     "start_time": "2024-03-09T19:59:22.207840Z"
    }
   },
   "outputs": [],
   "source": [
    "# Definición de columnas de datos finales\n",
    "df_final = df_tipo_d[\n",
    "    [\"Id\", \"Agente\", \"Planta\"] + df_tipo_d.columns[3:-1].tolist()\n",
    "].copy()"
   ]
  },
  {
   "cell_type": "code",
   "execution_count": 18,
   "metadata": {
    "ExecuteTime": {
     "end_time": "2024-03-09T19:59:22.250509Z",
     "start_time": "2024-03-09T19:59:22.234359Z"
    }
   },
   "outputs": [],
   "source": [
    "# Garantizar el tipo de dato de los campos\n",
    "convertir_float = df_tipo_d.columns[3:-1].tolist()\n",
    "df_final[convertir_float] = df_final[convertir_float].astype(\"float64\")\n",
    "\n",
    "df_final[[\"Agente\", \"Planta\"]] = df_final[[\"Agente\", \"Planta\"]].astype(str)\n",
    "df_final = df_final.copy()"
   ]
  },
  {
   "cell_type": "markdown",
   "metadata": {},
   "source": [
    "## Load"
   ]
  },
  {
   "cell_type": "code",
   "execution_count": 19,
   "metadata": {
    "ExecuteTime": {
     "end_time": "2024-03-09T19:59:22.260756Z",
     "start_time": "2024-03-09T19:59:22.254516Z"
    }
   },
   "outputs": [],
   "source": [
    "def carga_df_tabla(dataframe, engine, table_name):\n",
    "    try:\n",
    "        conn = engine.connect()\n",
    "        columns = dataframe.columns.tolist()\n",
    "        dataframe.to_sql(name=table_name, con=engine, if_exists=\"replace\", index=False)\n",
    "        print(f\"Los datos se han cargado correctamente en la tabla {table_name}\")\n",
    "    except Exception as e:\n",
    "        print(f\"Error al cargar datos desde el DataFrame a la tabla {table_name}: {e}\")\n",
    "    finally:\n",
    "        conn.close()"
   ]
  },
  {
   "cell_type": "code",
   "execution_count": 20,
   "metadata": {
    "ExecuteTime": {
     "end_time": "2024-03-09T19:59:22.466212Z",
     "start_time": "2024-03-09T19:59:22.262767Z"
    }
   },
   "outputs": [
    {
     "name": "stdout",
     "output_type": "stream",
     "text": [
      "Los datos se han cargado correctamente en la tabla tbl_ofei1204\n"
     ]
    }
   ],
   "source": [
    "carga_df_tabla(df_final, engine, \"tbl_ofei1204\")"
   ]
  }
 ],
 "metadata": {
  "kernelspec": {
   "display_name": ".venv",
   "language": "python",
   "name": "python3"
  },
  "language_info": {
   "codemirror_mode": {
    "name": "ipython",
    "version": 3
   },
   "file_extension": ".py",
   "mimetype": "text/x-python",
   "name": "python",
   "nbconvert_exporter": "python",
   "pygments_lexer": "ipython3",
   "version": "3.12.2"
  }
 },
 "nbformat": 4,
 "nbformat_minor": 2
}
