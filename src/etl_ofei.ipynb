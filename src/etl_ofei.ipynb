{
 "cells": [
  {
   "cell_type": "markdown",
   "metadata": {},
   "source": [
    "## ETL de Carga de información de OFEI1204.txt"
   ]
  },
  {
   "cell_type": "markdown",
   "metadata": {},
   "source": [
    "## Installation of base libraries"
   ]
  },
  {
   "cell_type": "code",
   "execution_count": 7,
   "metadata": {
    "ExecuteTime": {
     "end_time": "2024-03-07T04:00:34.134841Z",
     "start_time": "2024-03-07T04:00:34.128513Z"
    }
   },
   "outputs": [],
   "source": [
    "import pandas as pd\n",
    "from unidecode import unidecode\n",
    "import re\n",
    "from config.db_config import engine"
   ]
  },
  {
   "cell_type": "markdown",
   "metadata": {},
   "source": [
    "## Extraction"
   ]
  },
  {
   "cell_type": "code",
   "execution_count": 8,
   "metadata": {
    "ExecuteTime": {
     "end_time": "2024-03-07T04:00:34.180125Z",
     "start_time": "2024-03-07T04:00:34.174173Z"
    }
   },
   "outputs": [],
   "source": [
    "def lectura_archivo(archivo):\n",
    "    datos = []\n",
    "    agente_actual = None\n",
    "\n",
    "    try:\n",
    "        with open(archivo, \"r\", encoding=\"UTF-8\") as archivo:\n",
    "            for linea in archivo:\n",
    "                linea = linea.strip()\n",
    "                if linea.startswith(\"AGENTE:\"):\n",
    "                    agente_actual = linea.split(\"AGENTE:\")[1].strip()\n",
    "                elif (\n",
    "                    linea\n",
    "                    and not linea.startswith(\"Ofertas Iniciales\")\n",
    "                    and agente_actual is not None\n",
    "                ):\n",
    "                    partes = linea.split(\",\")\n",
    "                    tipo = partes[1].strip()\n",
    "                    planta = partes[0].strip()\n",
    "                    valores = partes[2:]\n",
    "                    datos.append([agente_actual, planta, tipo] + valores)\n",
    "    except Exception as e:\n",
    "        print(\"Error al cargar el archivo:\", e)\n",
    "\n",
    "    return datos"
   ]
  },
  {
   "cell_type": "code",
   "execution_count": 9,
   "metadata": {
    "ExecuteTime": {
     "end_time": "2024-03-07T04:00:34.188779Z",
     "start_time": "2024-03-07T04:00:34.182135Z"
    }
   },
   "outputs": [],
   "source": [
    "# Uso de la función\n",
    "datos = lectura_archivo(\"../data/OFEI1204.txt\")\n",
    "num_columnas_valores = len(datos[0]) - 3\n",
    "nombres_columnas_valores = [f\"Hora_{i+1}\" for i in range(num_columnas_valores)]"
   ]
  },
  {
   "cell_type": "markdown",
   "metadata": {},
   "source": [
    "## Transformation"
   ]
  },
  {
   "cell_type": "code",
   "execution_count": 10,
   "metadata": {
    "ExecuteTime": {
     "end_time": "2024-03-07T04:00:34.201029Z",
     "start_time": "2024-03-07T04:00:34.191790Z"
    },
    "collapsed": false
   },
   "outputs": [],
   "source": [
    "# Creación del DataFrame\n",
    "df = pd.DataFrame(\n",
    "    datos, columns=[\"Agente\", \"Planta\", \"Tipo\"] + nombres_columnas_valores\n",
    ")\n",
    "# Filtro los datos según el tipo 'D'\n",
    "df[\"Tipo\"] = df[\"Tipo\"].str.upper()\n",
    "df_tipo_d = df[df[\"Tipo\"] == \"D\"]\n",
    "df_tipo_d = df_tipo_d.copy()"
   ]
  },
  {
   "cell_type": "code",
   "execution_count": 11,
   "metadata": {
    "ExecuteTime": {
     "end_time": "2024-03-07T04:00:34.211621Z",
     "start_time": "2024-03-07T04:00:34.203178Z"
    }
   },
   "outputs": [],
   "source": [
    "# Aplicar unidecode y luego reemplazar guiones y paréntesis por espacios\n",
    "df_tipo_d[\"Agente\"] = df_tipo_d[\"Agente\"].apply(lambda x: unidecode(x).replace('-', ' ').replace('(', ' ').replace(')', ' '))\n",
    "df_tipo_d[\"Planta\"] = df_tipo_d[\"Planta\"].apply(lambda x: unidecode(x).replace('-', '').replace('(', ' ').replace(')', ' '))\n",
    "\n",
    "# Limpieza de los campos Agente, Planta\n",
    "df_tipo_d[\"Agente\"] = df_tipo_d[\"Agente\"].apply(lambda x: re.sub(r'[^0-9a-zA-Z\\s]', \"\", x))\n",
    "df_tipo_d[\"Planta\"] = df_tipo_d[\"Planta\"].apply(lambda x: re.sub(r'[^0-9a-zA-Z\\s]', \"\", x))"
   ]
  },
  {
   "cell_type": "code",
   "execution_count": 12,
   "metadata": {
    "ExecuteTime": {
     "end_time": "2024-03-07T04:00:34.217303Z",
     "start_time": "2024-03-07T04:00:34.212143Z"
    }
   },
   "outputs": [],
   "source": [
    "df_tipo_d[\"Id\"] = range(1, len(df_tipo_d) + 1)"
   ]
  },
  {
   "cell_type": "code",
   "execution_count": 13,
   "metadata": {
    "ExecuteTime": {
     "end_time": "2024-03-07T04:00:34.224934Z",
     "start_time": "2024-03-07T04:00:34.219314Z"
    }
   },
   "outputs": [],
   "source": [
    "# Definición de columnas de datos finales\n",
    "df_final = df_tipo_d[\n",
    "    [\"Id\", \"Agente\", \"Planta\"] + df_tipo_d.columns[3:-1].tolist()\n",
    "].copy()"
   ]
  },
  {
   "cell_type": "code",
   "execution_count": 14,
   "metadata": {
    "ExecuteTime": {
     "end_time": "2024-03-07T04:00:34.240983Z",
     "start_time": "2024-03-07T04:00:34.226942Z"
    }
   },
   "outputs": [],
   "source": [
    "# Garantizar el tipo de dato de los campos\n",
    "convertir_float = df_tipo_d.columns[3:-1].tolist()\n",
    "df_final[convertir_float] = df_final[convertir_float].astype(\"float64\")\n",
    "\n",
    "df_final[[\"Agente\", \"Planta\"]] = df_final[[\"Agente\", \"Planta\"]].astype(str)\n",
    "df_final = df_final.copy()"
   ]
  },
  {
   "cell_type": "markdown",
   "metadata": {},
   "source": [
    "## Load"
   ]
  },
  {
   "cell_type": "code",
   "execution_count": 15,
   "metadata": {
    "ExecuteTime": {
     "end_time": "2024-03-07T04:00:34.247090Z",
     "start_time": "2024-03-07T04:00:34.241988Z"
    }
   },
   "outputs": [],
   "source": [
    "def carga_df_tabla(dataframe, engine, table_name):\n",
    "    try:\n",
    "        conn = engine.connect()\n",
    "        columns = dataframe.columns.tolist()\n",
    "        dataframe.to_sql(name=table_name, con=engine, if_exists=\"replace\", index=False)\n",
    "        print(f\"Los datos se han cargado correctamente en la tabla {table_name}\")\n",
    "    except Exception as e:\n",
    "        print(f\"Error al cargar datos desde el DataFrame a la tabla {table_name}: {e}\")\n",
    "    finally:\n",
    "        conn.close()"
   ]
  },
  {
   "cell_type": "code",
   "execution_count": 16,
   "metadata": {
    "ExecuteTime": {
     "end_time": "2024-03-07T04:00:34.361513Z",
     "start_time": "2024-03-07T04:00:34.249099Z"
    }
   },
   "outputs": [
    {
     "name": "stdout",
     "output_type": "stream",
     "text": [
      "Los datos se han cargado correctamente en la tabla tbl_ofei1204\n"
     ]
    }
   ],
   "source": [
    "\n",
    "carga_df_tabla(df_final, engine, \"tbl_ofei1204\")"
   ]
  }
 ],
 "metadata": {
  "kernelspec": {
   "display_name": ".venv",
   "language": "python",
   "name": "python3"
  },
  "language_info": {
   "codemirror_mode": {
    "name": "ipython",
    "version": 3
   },
   "file_extension": ".py",
   "mimetype": "text/x-python",
   "name": "python",
   "nbconvert_exporter": "python",
   "pygments_lexer": "ipython3",
   "version": "3.12.2"
  }
 },
 "nbformat": 4,
 "nbformat_minor": 2
}
